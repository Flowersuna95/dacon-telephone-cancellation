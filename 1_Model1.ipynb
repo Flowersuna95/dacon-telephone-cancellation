{
 "cells": [
  {
   "cell_type": "code",
   "execution_count": 1,
   "id": "40a98c12",
   "metadata": {},
   "outputs": [],
   "source": [
    "import pandas as pd\n",
    "import numpy as np\n",
    "from sklearn.model_selection import train_test_split\n",
    "from sklearn.preprocessing import StandardScaler\n",
    "from sklearn.metrics import classification_report,f1_score\n",
    "from keras.models import Sequential\n",
    "from keras.layers import Dense\n",
    "from keras.callbacks import EarlyStopping"
   ]
  },
  {
   "cell_type": "code",
   "execution_count": 2,
   "id": "88df70f6",
   "metadata": {},
   "outputs": [],
   "source": [
    "train = pd.read_csv('data/train.csv')\n",
    "test = pd.read_csv('data/test.csv')\n",
    "submission = pd.read_csv('data/sample_submission.csv')"
   ]
  },
  {
   "cell_type": "code",
   "execution_count": 3,
   "id": "45f02607",
   "metadata": {},
   "outputs": [
    {
     "data": {
      "text/plain": [
       "Index(['ID', '가입일', '음성사서함이용', '주간통화시간', '주간통화횟수', '주간통화요금', '저녁통화시간',\n",
       "       '저녁통화횟수', '저녁통화요금', '밤통화시간', '밤통화횟수', '밤통화요금', '상담전화건수', '전화해지여부'],\n",
       "      dtype='object')"
      ]
     },
     "execution_count": 3,
     "metadata": {},
     "output_type": "execute_result"
    }
   ],
   "source": [
    "train.columns"
   ]
  },
  {
   "cell_type": "code",
   "execution_count": 4,
   "id": "a5a7b8ef",
   "metadata": {},
   "outputs": [],
   "source": [
    "train.set_index('ID', inplace=True)\n",
    "test.set_index('ID', inplace=True)"
   ]
  },
  {
   "cell_type": "code",
   "execution_count": 5,
   "id": "03051f17",
   "metadata": {},
   "outputs": [
    {
     "name": "stdout",
     "output_type": "stream",
     "text": [
      "<class 'pandas.core.frame.DataFrame'>\n",
      "Index: 12943 entries, TEST_00000 to TEST_12942\n",
      "Data columns (total 12 columns):\n",
      " #   Column   Non-Null Count  Dtype  \n",
      "---  ------   --------------  -----  \n",
      " 0   가입일      12943 non-null  int64  \n",
      " 1   음성사서함이용  12943 non-null  int64  \n",
      " 2   주간통화시간   12943 non-null  float64\n",
      " 3   주간통화횟수   12943 non-null  int64  \n",
      " 4   주간통화요금   12943 non-null  float64\n",
      " 5   저녁통화시간   12943 non-null  float64\n",
      " 6   저녁통화횟수   12943 non-null  int64  \n",
      " 7   저녁통화요금   12943 non-null  float64\n",
      " 8   밤통화시간    12943 non-null  float64\n",
      " 9   밤통화횟수    12943 non-null  int64  \n",
      " 10  밤통화요금    12943 non-null  float64\n",
      " 11  상담전화건수   12943 non-null  int64  \n",
      "dtypes: float64(6), int64(6)\n",
      "memory usage: 1.3+ MB\n"
     ]
    }
   ],
   "source": [
    "test.info()"
   ]
  },
  {
   "cell_type": "code",
   "execution_count": 6,
   "id": "18385926",
   "metadata": {},
   "outputs": [],
   "source": [
    "feat = [\n",
    "    '가입일', '음성사서함이용', '주간통화시간', '주간통화횟수', \n",
    "    '주간통화요금', '저녁통화시간', '저녁통화횟수', '저녁통화요금', \n",
    "    '밤통화시간', '밤통화횟수', '밤통화요금', '상담전화건수'\n",
    "]\n",
    "label = '전화해지여부'\n",
    "X_train, X_test, y_train, y_test = train_test_split(train[feat], \n",
    "                                                    train[label], \n",
    "                                                    test_size=0.3, \n",
    "                                                    random_state=42)"
   ]
  },
  {
   "cell_type": "markdown",
   "id": "a85cf7de",
   "metadata": {},
   "source": [
    "## 훈련/검증 데이터 분할"
   ]
  },
  {
   "cell_type": "code",
   "execution_count": 7,
   "id": "8611bc83",
   "metadata": {},
   "outputs": [
    {
     "data": {
      "text/plain": [
       "((21140, 12), (9060, 12), (21140,), (9060,))"
      ]
     },
     "execution_count": 7,
     "metadata": {},
     "output_type": "execute_result"
    }
   ],
   "source": [
    "X_train.shape, X_test.shape, y_train.shape, y_test.shape"
   ]
  },
  {
   "cell_type": "markdown",
   "id": "c389306d",
   "metadata": {},
   "source": [
    "## 데이터 표준화"
   ]
  },
  {
   "cell_type": "code",
   "execution_count": 8,
   "id": "c6bbff60",
   "metadata": {},
   "outputs": [],
   "source": [
    "scaler = StandardScaler()\n",
    "X_train = scaler.fit_transform(X_train)\n",
    "X_test = scaler.transform(X_test)"
   ]
  },
  {
   "cell_type": "markdown",
   "id": "c791ed12",
   "metadata": {},
   "source": [
    "## 모델구성"
   ]
  },
  {
   "cell_type": "code",
   "execution_count": 9,
   "id": "9659f066",
   "metadata": {},
   "outputs": [],
   "source": [
    "model = Sequential()\n",
    "model.add(Dense(64, input_dim=12, activation='relu'))\n",
    "# model.add(Dense(256, activation='relu'))\n",
    "model.add(Dense(32, activation='relu'))\n",
    "model.add(Dense(1, activation='sigmoid'))"
   ]
  },
  {
   "cell_type": "markdown",
   "id": "4ee1f3a0",
   "metadata": {},
   "source": [
    "## 모델 컴파일"
   ]
  },
  {
   "cell_type": "code",
   "execution_count": 10,
   "id": "cc6323a3",
   "metadata": {},
   "outputs": [],
   "source": [
    "# model.compile(loss='binary_crossentropy', optimizer='adam', metrics=['accuracy',f1_score])\n",
    "model.compile(loss='binary_crossentropy', optimizer='adam', metrics=['accuracy'])"
   ]
  },
  {
   "cell_type": "markdown",
   "id": "a6b5558e",
   "metadata": {},
   "source": [
    "## 조기 종료 콜백"
   ]
  },
  {
   "cell_type": "code",
   "execution_count": 11,
   "id": "76458219",
   "metadata": {},
   "outputs": [],
   "source": [
    "early_stopping = EarlyStopping(monitor='val_loss', patience=10, mode='min')"
   ]
  },
  {
   "cell_type": "markdown",
   "id": "c11b25c8",
   "metadata": {},
   "source": [
    "## 클래스 가중치 설정"
   ]
  },
  {
   "cell_type": "code",
   "execution_count": 12,
   "id": "87e83e62",
   "metadata": {},
   "outputs": [],
   "source": [
    "class_weight = {0: 1, 1: 1}"
   ]
  },
  {
   "cell_type": "markdown",
   "id": "ac749560",
   "metadata": {},
   "source": [
    "## 모델 학습"
   ]
  },
  {
   "cell_type": "code",
   "execution_count": 32,
   "id": "aecf0f11",
   "metadata": {
    "scrolled": false
   },
   "outputs": [
    {
     "name": "stdout",
     "output_type": "stream",
     "text": [
      "Epoch 1/100\n",
      "1322/1322 [==============================] - 2s 1ms/step - loss: 0.2476 - accuracy: 0.9025 - val_loss: 0.2970 - val_accuracy: 0.8964\n",
      "Epoch 2/100\n",
      "1322/1322 [==============================] - 2s 1ms/step - loss: 0.2330 - accuracy: 0.9081 - val_loss: 0.3010 - val_accuracy: 0.8902\n",
      "Epoch 3/100\n",
      "1322/1322 [==============================] - 2s 1ms/step - loss: 0.2308 - accuracy: 0.9099 - val_loss: 0.2953 - val_accuracy: 0.8982\n",
      "Epoch 4/100\n",
      "1322/1322 [==============================] - 2s 1ms/step - loss: 0.2299 - accuracy: 0.9089 - val_loss: 0.2960 - val_accuracy: 0.8958\n",
      "Epoch 5/100\n",
      "1322/1322 [==============================] - 2s 1ms/step - loss: 0.2307 - accuracy: 0.9083 - val_loss: 0.3059 - val_accuracy: 0.8864\n",
      "Epoch 6/100\n",
      "1322/1322 [==============================] - 2s 1ms/step - loss: 0.2282 - accuracy: 0.9094 - val_loss: 0.2936 - val_accuracy: 0.9002\n",
      "Epoch 7/100\n",
      "1322/1322 [==============================] - 2s 1ms/step - loss: 0.2278 - accuracy: 0.9096 - val_loss: 0.2968 - val_accuracy: 0.8923\n",
      "Epoch 8/100\n",
      "1322/1322 [==============================] - 2s 1ms/step - loss: 0.2269 - accuracy: 0.9099 - val_loss: 0.2939 - val_accuracy: 0.8924\n",
      "Epoch 9/100\n",
      "1322/1322 [==============================] - 2s 1ms/step - loss: 0.2269 - accuracy: 0.9096 - val_loss: 0.3074 - val_accuracy: 0.8858\n",
      "Epoch 10/100\n",
      "1322/1322 [==============================] - 2s 1ms/step - loss: 0.2265 - accuracy: 0.9115 - val_loss: 0.2919 - val_accuracy: 0.8977\n",
      "Epoch 11/100\n",
      "1322/1322 [==============================] - 2s 1ms/step - loss: 0.2272 - accuracy: 0.9091 - val_loss: 0.2915 - val_accuracy: 0.8970\n",
      "Epoch 12/100\n",
      "1322/1322 [==============================] - 2s 1ms/step - loss: 0.2262 - accuracy: 0.9096 - val_loss: 0.2947 - val_accuracy: 0.8916\n",
      "Epoch 13/100\n",
      "1322/1322 [==============================] - 2s 1ms/step - loss: 0.2256 - accuracy: 0.9110 - val_loss: 0.3024 - val_accuracy: 0.8891\n",
      "Epoch 14/100\n",
      "1322/1322 [==============================] - 2s 1ms/step - loss: 0.2236 - accuracy: 0.9096 - val_loss: 0.2960 - val_accuracy: 0.8945\n",
      "Epoch 15/100\n",
      "1322/1322 [==============================] - 2s 1ms/step - loss: 0.2248 - accuracy: 0.9102 - val_loss: 0.2904 - val_accuracy: 0.8962\n",
      "Epoch 16/100\n",
      "1322/1322 [==============================] - 2s 1ms/step - loss: 0.2211 - accuracy: 0.9132 - val_loss: 0.3002 - val_accuracy: 0.8906\n",
      "Epoch 17/100\n",
      "1322/1322 [==============================] - 2s 1ms/step - loss: 0.2240 - accuracy: 0.9085 - val_loss: 0.2909 - val_accuracy: 0.8970\n",
      "Epoch 18/100\n",
      "1322/1322 [==============================] - 2s 1ms/step - loss: 0.2226 - accuracy: 0.9106 - val_loss: 0.2982 - val_accuracy: 0.8869\n",
      "Epoch 19/100\n",
      "1322/1322 [==============================] - 2s 1ms/step - loss: 0.2225 - accuracy: 0.9117 - val_loss: 0.2920 - val_accuracy: 0.8923\n",
      "Epoch 20/100\n",
      "1322/1322 [==============================] - 2s 1ms/step - loss: 0.2211 - accuracy: 0.9120 - val_loss: 0.2928 - val_accuracy: 0.8939\n",
      "Epoch 21/100\n",
      "1322/1322 [==============================] - 2s 1ms/step - loss: 0.2223 - accuracy: 0.9117 - val_loss: 0.2921 - val_accuracy: 0.8959\n",
      "Epoch 22/100\n",
      "1322/1322 [==============================] - 2s 1ms/step - loss: 0.2201 - accuracy: 0.9128 - val_loss: 0.3204 - val_accuracy: 0.8757\n",
      "Epoch 23/100\n",
      "1322/1322 [==============================] - 2s 1ms/step - loss: 0.2206 - accuracy: 0.9108 - val_loss: 0.3007 - val_accuracy: 0.8944\n",
      "Epoch 24/100\n",
      "1322/1322 [==============================] - 2s 1ms/step - loss: 0.2202 - accuracy: 0.9126 - val_loss: 0.2927 - val_accuracy: 0.8925\n",
      "Epoch 25/100\n",
      "1322/1322 [==============================] - 2s 1ms/step - loss: 0.2209 - accuracy: 0.9105 - val_loss: 0.3001 - val_accuracy: 0.8901\n"
     ]
    },
    {
     "data": {
      "text/plain": [
       "<keras.callbacks.History at 0x29039330788>"
      ]
     },
     "execution_count": 32,
     "metadata": {},
     "output_type": "execute_result"
    }
   ],
   "source": [
    "model.fit(X_train, y_train, \n",
    "          epochs=100, batch_size=16, \n",
    "          validation_data=(X_test, y_test),\n",
    "          callbacks=[early_stopping],\n",
    "#           class_weight=class_weight\n",
    "         )"
   ]
  },
  {
   "cell_type": "code",
   "execution_count": 33,
   "id": "a2c619bf",
   "metadata": {},
   "outputs": [
    {
     "name": "stdout",
     "output_type": "stream",
     "text": [
      "284/284 [==============================] - 0s 911us/step - loss: 0.3001 - accuracy: 0.8901\n",
      "Loss: 0.3000923693180084\n",
      "Accuracy: 0.8900662064552307\n"
     ]
    }
   ],
   "source": [
    "loss, accuracy = model.evaluate(X_test, y_test)\n",
    "print('Loss:', loss)\n",
    "print('Accuracy:', accuracy)"
   ]
  },
  {
   "cell_type": "code",
   "execution_count": 34,
   "id": "d3708f88",
   "metadata": {},
   "outputs": [
    {
     "name": "stdout",
     "output_type": "stream",
     "text": [
      "284/284 [==============================] - 0s 771us/step\n"
     ]
    }
   ],
   "source": [
    "y_pred = model.predict(X_test)"
   ]
  },
  {
   "cell_type": "code",
   "execution_count": 35,
   "id": "e2d4f998",
   "metadata": {},
   "outputs": [
    {
     "name": "stdout",
     "output_type": "stream",
     "text": [
      "              precision    recall  f1-score   support\n",
      "\n",
      "           0       0.92      0.97      0.94      8117\n",
      "           1       0.50      0.22      0.31       943\n",
      "\n",
      "    accuracy                           0.90      9060\n",
      "   macro avg       0.71      0.60      0.63      9060\n",
      "weighted avg       0.87      0.90      0.88      9060\n",
      "\n"
     ]
    }
   ],
   "source": [
    "print(classification_report(y_test, (y_pred > 0.6)))"
   ]
  },
  {
   "cell_type": "code",
   "execution_count": 165,
   "id": "87509c6e",
   "metadata": {},
   "outputs": [
    {
     "data": {
      "text/plain": [
       "1910.1208"
      ]
     },
     "execution_count": 165,
     "metadata": {},
     "output_type": "execute_result"
    }
   ],
   "source": [
    "pred.sum()"
   ]
  },
  {
   "cell_type": "markdown",
   "id": "b5a30aa6",
   "metadata": {},
   "source": [
    "## 예측"
   ]
  },
  {
   "cell_type": "code",
   "execution_count": 151,
   "id": "d88931e6",
   "metadata": {},
   "outputs": [
    {
     "name": "stdout",
     "output_type": "stream",
     "text": [
      "405/405 [==============================] - 0s 785us/step\n"
     ]
    }
   ],
   "source": [
    "pred = model.predict(test)"
   ]
  },
  {
   "cell_type": "code",
   "execution_count": 156,
   "id": "d8957112",
   "metadata": {},
   "outputs": [],
   "source": [
    "submission[label] = np.int8(pred > 0.6)"
   ]
  },
  {
   "cell_type": "code",
   "execution_count": 93,
   "id": "7064d681",
   "metadata": {},
   "outputs": [
    {
     "data": {
      "text/html": [
       "<div>\n",
       "<style scoped>\n",
       "    .dataframe tbody tr th:only-of-type {\n",
       "        vertical-align: middle;\n",
       "    }\n",
       "\n",
       "    .dataframe tbody tr th {\n",
       "        vertical-align: top;\n",
       "    }\n",
       "\n",
       "    .dataframe thead th {\n",
       "        text-align: right;\n",
       "    }\n",
       "</style>\n",
       "<table border=\"1\" class=\"dataframe\">\n",
       "  <thead>\n",
       "    <tr style=\"text-align: right;\">\n",
       "      <th></th>\n",
       "      <th>ID</th>\n",
       "      <th>전화해지여부</th>\n",
       "    </tr>\n",
       "  </thead>\n",
       "  <tbody>\n",
       "    <tr>\n",
       "      <th>0</th>\n",
       "      <td>TEST_00000</td>\n",
       "      <td>0</td>\n",
       "    </tr>\n",
       "    <tr>\n",
       "      <th>1</th>\n",
       "      <td>TEST_00001</td>\n",
       "      <td>0</td>\n",
       "    </tr>\n",
       "    <tr>\n",
       "      <th>2</th>\n",
       "      <td>TEST_00002</td>\n",
       "      <td>0</td>\n",
       "    </tr>\n",
       "    <tr>\n",
       "      <th>3</th>\n",
       "      <td>TEST_00003</td>\n",
       "      <td>0</td>\n",
       "    </tr>\n",
       "    <tr>\n",
       "      <th>4</th>\n",
       "      <td>TEST_00004</td>\n",
       "      <td>0</td>\n",
       "    </tr>\n",
       "    <tr>\n",
       "      <th>...</th>\n",
       "      <td>...</td>\n",
       "      <td>...</td>\n",
       "    </tr>\n",
       "    <tr>\n",
       "      <th>12938</th>\n",
       "      <td>TEST_12938</td>\n",
       "      <td>0</td>\n",
       "    </tr>\n",
       "    <tr>\n",
       "      <th>12939</th>\n",
       "      <td>TEST_12939</td>\n",
       "      <td>0</td>\n",
       "    </tr>\n",
       "    <tr>\n",
       "      <th>12940</th>\n",
       "      <td>TEST_12940</td>\n",
       "      <td>0</td>\n",
       "    </tr>\n",
       "    <tr>\n",
       "      <th>12941</th>\n",
       "      <td>TEST_12941</td>\n",
       "      <td>0</td>\n",
       "    </tr>\n",
       "    <tr>\n",
       "      <th>12942</th>\n",
       "      <td>TEST_12942</td>\n",
       "      <td>0</td>\n",
       "    </tr>\n",
       "  </tbody>\n",
       "</table>\n",
       "<p>12943 rows × 2 columns</p>\n",
       "</div>"
      ],
      "text/plain": [
       "               ID  전화해지여부\n",
       "0      TEST_00000       0\n",
       "1      TEST_00001       0\n",
       "2      TEST_00002       0\n",
       "3      TEST_00003       0\n",
       "4      TEST_00004       0\n",
       "...           ...     ...\n",
       "12938  TEST_12938       0\n",
       "12939  TEST_12939       0\n",
       "12940  TEST_12940       0\n",
       "12941  TEST_12941       0\n",
       "12942  TEST_12942       0\n",
       "\n",
       "[12943 rows x 2 columns]"
      ]
     },
     "execution_count": 93,
     "metadata": {},
     "output_type": "execute_result"
    }
   ],
   "source": [
    "submission"
   ]
  },
  {
   "cell_type": "code",
   "execution_count": 158,
   "id": "7f3b6a32",
   "metadata": {},
   "outputs": [],
   "source": [
    "submission.to_csv('data/submission_model01.csv', index=False)"
   ]
  },
  {
   "cell_type": "code",
   "execution_count": 157,
   "id": "2c3d4bf8",
   "metadata": {},
   "outputs": [
    {
     "data": {
      "text/plain": [
       "0    11042\n",
       "1     1901\n",
       "Name: 전화해지여부, dtype: int64"
      ]
     },
     "execution_count": 157,
     "metadata": {},
     "output_type": "execute_result"
    }
   ],
   "source": [
    "submission[label].value_counts()"
   ]
  },
  {
   "cell_type": "code",
   "execution_count": null,
   "id": "b9fe110b",
   "metadata": {},
   "outputs": [],
   "source": []
  }
 ],
 "metadata": {
  "kernelspec": {
   "display_name": "Python 3 (ipykernel)",
   "language": "python",
   "name": "python3"
  },
  "language_info": {
   "codemirror_mode": {
    "name": "ipython",
    "version": 3
   },
   "file_extension": ".py",
   "mimetype": "text/x-python",
   "name": "python",
   "nbconvert_exporter": "python",
   "pygments_lexer": "ipython3",
   "version": "3.7.6"
  }
 },
 "nbformat": 4,
 "nbformat_minor": 5
}
