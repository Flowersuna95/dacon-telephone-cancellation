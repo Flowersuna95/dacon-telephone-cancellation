{
 "cells": [
  {
   "cell_type": "code",
   "execution_count": 6,
   "metadata": {},
   "outputs": [],
   "source": [
    "import pandas as pd\n",
    "import numpy as np\n",
    "\n",
    "import seaborn as sns\n",
    "import matplotlib.pyplot as plt"
   ]
  },
  {
   "cell_type": "code",
   "execution_count": 10,
   "metadata": {},
   "outputs": [
    {
     "name": "stderr",
     "output_type": "stream",
     "text": [
      "d:\\contest\\2023 03 02 telephone-cancellation\\venv\\lib\\site-packages\\ipykernel_launcher.py:4: MatplotlibDeprecationWarning: \n",
      "The get_fontconfig_fonts function was deprecated in Matplotlib 3.5 and will be removed two minor releases later.\n",
      "  after removing the cwd from sys.path.\n"
     ]
    }
   ],
   "source": [
    "import matplotlib\n",
    "import matplotlib.font_manager as fm\n",
    "\n",
    "fm.get_fontconfig_fonts()\n",
    "font_location = 'font/HoonWhitecatR.ttf'\n",
    "font_name = fm.FontProperties(fname=font_location).get_name()\n",
    "matplotlib.rc('font', family=font_name)\n",
    "\n",
    "%matplotlib inline"
   ]
  },
  {
   "cell_type": "code",
   "execution_count": 3,
   "metadata": {},
   "outputs": [],
   "source": [
    "plt.rcParams['font.size'] = 12"
   ]
  },
  {
   "cell_type": "code",
   "execution_count": 4,
   "metadata": {
    "pycharm": {
     "name": "#%%\n"
    }
   },
   "outputs": [
    {
     "data": {
      "text/html": [
       "<div>\n",
       "<style scoped>\n",
       "    .dataframe tbody tr th:only-of-type {\n",
       "        vertical-align: middle;\n",
       "    }\n",
       "\n",
       "    .dataframe tbody tr th {\n",
       "        vertical-align: top;\n",
       "    }\n",
       "\n",
       "    .dataframe thead th {\n",
       "        text-align: right;\n",
       "    }\n",
       "</style>\n",
       "<table border=\"1\" class=\"dataframe\">\n",
       "  <thead>\n",
       "    <tr style=\"text-align: right;\">\n",
       "      <th></th>\n",
       "      <th>ID</th>\n",
       "      <th>가입일</th>\n",
       "      <th>음성사서함이용</th>\n",
       "      <th>주간통화시간</th>\n",
       "      <th>주간통화횟수</th>\n",
       "      <th>주간통화요금</th>\n",
       "      <th>저녁통화시간</th>\n",
       "      <th>저녁통화횟수</th>\n",
       "      <th>저녁통화요금</th>\n",
       "      <th>밤통화시간</th>\n",
       "      <th>밤통화횟수</th>\n",
       "      <th>밤통화요금</th>\n",
       "      <th>상담전화건수</th>\n",
       "      <th>전화해지여부</th>\n",
       "    </tr>\n",
       "  </thead>\n",
       "  <tbody>\n",
       "    <tr>\n",
       "      <th>0</th>\n",
       "      <td>TRAIN_00000</td>\n",
       "      <td>329</td>\n",
       "      <td>0</td>\n",
       "      <td>99.2</td>\n",
       "      <td>93</td>\n",
       "      <td>27.3</td>\n",
       "      <td>268.8</td>\n",
       "      <td>68</td>\n",
       "      <td>28.92</td>\n",
       "      <td>262.9</td>\n",
       "      <td>328</td>\n",
       "      <td>32.89</td>\n",
       "      <td>2</td>\n",
       "      <td>0</td>\n",
       "    </tr>\n",
       "    <tr>\n",
       "      <th>1</th>\n",
       "      <td>TRAIN_00001</td>\n",
       "      <td>2</td>\n",
       "      <td>80</td>\n",
       "      <td>323.9</td>\n",
       "      <td>323</td>\n",
       "      <td>83.7</td>\n",
       "      <td>269.4</td>\n",
       "      <td>326</td>\n",
       "      <td>32.09</td>\n",
       "      <td>322.8</td>\n",
       "      <td>209</td>\n",
       "      <td>32.32</td>\n",
       "      <td>2</td>\n",
       "      <td>0</td>\n",
       "    </tr>\n",
       "    <tr>\n",
       "      <th>2</th>\n",
       "      <td>TRAIN_00002</td>\n",
       "      <td>93</td>\n",
       "      <td>28</td>\n",
       "      <td>282.4</td>\n",
       "      <td>323</td>\n",
       "      <td>34.2</td>\n",
       "      <td>207.0</td>\n",
       "      <td>322</td>\n",
       "      <td>32.82</td>\n",
       "      <td>280.8</td>\n",
       "      <td>328</td>\n",
       "      <td>8.28</td>\n",
       "      <td>0</td>\n",
       "      <td>0</td>\n",
       "    </tr>\n",
       "    <tr>\n",
       "      <th>3</th>\n",
       "      <td>TRAIN_00003</td>\n",
       "      <td>223</td>\n",
       "      <td>1</td>\n",
       "      <td>221.4</td>\n",
       "      <td>223</td>\n",
       "      <td>25.1</td>\n",
       "      <td>233.0</td>\n",
       "      <td>61</td>\n",
       "      <td>23.90</td>\n",
       "      <td>203.8</td>\n",
       "      <td>234</td>\n",
       "      <td>9.36</td>\n",
       "      <td>0</td>\n",
       "      <td>0</td>\n",
       "    </tr>\n",
       "    <tr>\n",
       "      <th>4</th>\n",
       "      <td>TRAIN_00004</td>\n",
       "      <td>222</td>\n",
       "      <td>0</td>\n",
       "      <td>96.3</td>\n",
       "      <td>222</td>\n",
       "      <td>28.7</td>\n",
       "      <td>223.9</td>\n",
       "      <td>69</td>\n",
       "      <td>28.08</td>\n",
       "      <td>263.1</td>\n",
       "      <td>223</td>\n",
       "      <td>2.80</td>\n",
       "      <td>8</td>\n",
       "      <td>0</td>\n",
       "    </tr>\n",
       "  </tbody>\n",
       "</table>\n",
       "</div>"
      ],
      "text/plain": [
       "            ID  가입일  음성사서함이용  주간통화시간  주간통화횟수  주간통화요금  저녁통화시간  저녁통화횟수  저녁통화요금  \\\n",
       "0  TRAIN_00000  329        0    99.2      93    27.3   268.8      68   28.92   \n",
       "1  TRAIN_00001    2       80   323.9     323    83.7   269.4     326   32.09   \n",
       "2  TRAIN_00002   93       28   282.4     323    34.2   207.0     322   32.82   \n",
       "3  TRAIN_00003  223        1   221.4     223    25.1   233.0      61   23.90   \n",
       "4  TRAIN_00004  222        0    96.3     222    28.7   223.9      69   28.08   \n",
       "\n",
       "   밤통화시간  밤통화횟수  밤통화요금  상담전화건수  전화해지여부  \n",
       "0  262.9    328  32.89       2       0  \n",
       "1  322.8    209  32.32       2       0  \n",
       "2  280.8    328   8.28       0       0  \n",
       "3  203.8    234   9.36       0       0  \n",
       "4  263.1    223   2.80       8       0  "
      ]
     },
     "execution_count": 4,
     "metadata": {},
     "output_type": "execute_result"
    }
   ],
   "source": [
    "data = pd.read_csv('data/train.csv')\n",
    "data.head()"
   ]
  },
  {
   "cell_type": "code",
   "execution_count": 5,
   "metadata": {
    "pycharm": {
     "name": "#%%\n"
    }
   },
   "outputs": [
    {
     "data": {
      "text/plain": [
       "Index(['ID', '가입일', '음성사서함이용', '주간통화시간', '주간통화횟수', '주간통화요금', '저녁통화시간',\n",
       "       '저녁통화횟수', '저녁통화요금', '밤통화시간', '밤통화횟수', '밤통화요금', '상담전화건수', '전화해지여부'],\n",
       "      dtype='object')"
      ]
     },
     "execution_count": 5,
     "metadata": {},
     "output_type": "execute_result"
    }
   ],
   "source": [
    "data.columns"
   ]
  },
  {
   "cell_type": "code",
   "execution_count": 6,
   "metadata": {
    "pycharm": {
     "name": "#%%\n"
    }
   },
   "outputs": [
    {
     "name": "stdout",
     "output_type": "stream",
     "text": [
      "<class 'pandas.core.frame.DataFrame'>\n",
      "RangeIndex: 30200 entries, 0 to 30199\n",
      "Data columns (total 14 columns):\n",
      " #   Column   Non-Null Count  Dtype  \n",
      "---  ------   --------------  -----  \n",
      " 0   ID       30200 non-null  object \n",
      " 1   가입일      30200 non-null  int64  \n",
      " 2   음성사서함이용  30200 non-null  int64  \n",
      " 3   주간통화시간   30200 non-null  float64\n",
      " 4   주간통화횟수   30200 non-null  int64  \n",
      " 5   주간통화요금   30200 non-null  float64\n",
      " 6   저녁통화시간   30200 non-null  float64\n",
      " 7   저녁통화횟수   30200 non-null  int64  \n",
      " 8   저녁통화요금   30200 non-null  float64\n",
      " 9   밤통화시간    30200 non-null  float64\n",
      " 10  밤통화횟수    30200 non-null  int64  \n",
      " 11  밤통화요금    30200 non-null  float64\n",
      " 12  상담전화건수   30200 non-null  int64  \n",
      " 13  전화해지여부   30200 non-null  int64  \n",
      "dtypes: float64(6), int64(7), object(1)\n",
      "memory usage: 3.2+ MB\n"
     ]
    }
   ],
   "source": [
    "data.info()"
   ]
  },
  {
   "cell_type": "markdown",
   "metadata": {
    "pycharm": {
     "name": "#%%\n"
    }
   },
   "source": [
    "## 전화해지여부"
   ]
  },
  {
   "cell_type": "code",
   "execution_count": 7,
   "metadata": {},
   "outputs": [
    {
     "data": {
      "text/plain": [
       "0    26882\n",
       "1     3318\n",
       "Name: 전화해지여부, dtype: int64"
      ]
     },
     "execution_count": 7,
     "metadata": {},
     "output_type": "execute_result"
    }
   ],
   "source": [
    "data[\"전화해지여부\"].value_counts()"
   ]
  },
  {
   "cell_type": "code",
   "execution_count": 9,
   "metadata": {},
   "outputs": [
    {
     "data": {
      "text/plain": [
       "0.10986754966887417"
      ]
     },
     "execution_count": 9,
     "metadata": {},
     "output_type": "execute_result"
    }
   ],
   "source": [
    "data[\"전화해지여부\"].value_counts()[1] / data.shape[0]"
   ]
  },
  {
   "cell_type": "markdown",
   "metadata": {},
   "source": [
    "## 가입일"
   ]
  },
  {
   "cell_type": "code",
   "execution_count": 37,
   "metadata": {},
   "outputs": [
    {
     "data": {
      "text/plain": [
       "<AxesSubplot:xlabel='가입일', ylabel='Count'>"
      ]
     },
     "execution_count": 37,
     "metadata": {},
     "output_type": "execute_result"
    },
    {
     "data": {
      "image/png": "[encoded data removed]",
      "text/plain": [
       "<Figure size 640x480 with 1 Axes>"
      ]
     },
     "metadata": {},
     "output_type": "display_data"
    }
   ],
   "source": [
    "sns.histplot(data=data, x='가입일', hue='전화해지여부', bins=20)"
   ]
  },
  {
   "cell_type": "code",
   "execution_count": 16,
   "metadata": {},
   "outputs": [
    {
     "data": {
      "text/plain": [
       "0    23\n",
       "1     2\n",
       "Name: 전화해지여부, dtype: int64"
      ]
     },
     "execution_count": 16,
     "metadata": {},
     "output_type": "execute_result"
    }
   ],
   "source": [
    "data.loc[data['가입일'] > 1000, '전화해지여부'].value_counts()"
   ]
  },
  {
   "cell_type": "code",
   "execution_count": 17,
   "metadata": {},
   "outputs": [
    {
     "data": {
      "text/plain": [
       "0    24448\n",
       "1     2991\n",
       "Name: 전화해지여부, dtype: int64"
      ]
     },
     "execution_count": 17,
     "metadata": {},
     "output_type": "execute_result"
    }
   ],
   "source": [
    "data.loc[data['가입일'] < 300, '전화해지여부'].value_counts()"
   ]
  },
  {
   "cell_type": "markdown",
   "metadata": {},
   "source": [
    "## 음성사서함이용"
   ]
  },
  {
   "cell_type": "code",
   "execution_count": 11,
   "metadata": {},
   "outputs": [
    {
     "data": {
      "text/plain": [
       "<AxesSubplot:xlabel='음성사서함이용', ylabel='Count'>"
      ]
     },
     "execution_count": 11,
     "metadata": {},
     "output_type": "execute_result"
    },
    {
     "name": "stderr",
     "output_type": "stream",
     "text": [
      "d:\\contest\\2023 03 02 telephone-cancellation\\venv\\lib\\site-packages\\IPython\\core\\events.py:89: UserWarning: Glyph 51020 (\\N{HANGUL SYLLABLE EUM}) missing from current font.\n",
      "  func(*args, **kwargs)\n",
      "d:\\contest\\2023 03 02 telephone-cancellation\\venv\\lib\\site-packages\\IPython\\core\\events.py:89: UserWarning: Glyph 49457 (\\N{HANGUL SYLLABLE SEONG}) missing from current font.\n",
      "  func(*args, **kwargs)\n",
      "d:\\contest\\2023 03 02 telephone-cancellation\\venv\\lib\\site-packages\\IPython\\core\\events.py:89: UserWarning: Glyph 49324 (\\N{HANGUL SYLLABLE SA}) missing from current font.\n",
      "  func(*args, **kwargs)\n",
      "d:\\contest\\2023 03 02 telephone-cancellation\\venv\\lib\\site-packages\\IPython\\core\\events.py:89: UserWarning: Glyph 49436 (\\N{HANGUL SYLLABLE SEO}) missing from current font.\n",
      "  func(*args, **kwargs)\n",
      "d:\\contest\\2023 03 02 telephone-cancellation\\venv\\lib\\site-packages\\IPython\\core\\events.py:89: UserWarning: Glyph 54632 (\\N{HANGUL SYLLABLE HAM}) missing from current font.\n",
      "  func(*args, **kwargs)\n",
      "d:\\contest\\2023 03 02 telephone-cancellation\\venv\\lib\\site-packages\\IPython\\core\\events.py:89: UserWarning: Glyph 51060 (\\N{HANGUL SYLLABLE I}) missing from current font.\n",
      "  func(*args, **kwargs)\n",
      "d:\\contest\\2023 03 02 telephone-cancellation\\venv\\lib\\site-packages\\IPython\\core\\events.py:89: UserWarning: Glyph 50857 (\\N{HANGUL SYLLABLE YONG}) missing from current font.\n",
      "  func(*args, **kwargs)\n",
      "d:\\contest\\2023 03 02 telephone-cancellation\\venv\\lib\\site-packages\\IPython\\core\\events.py:89: UserWarning: Glyph 51204 (\\N{HANGUL SYLLABLE JEON}) missing from current font.\n",
      "  func(*args, **kwargs)\n",
      "d:\\contest\\2023 03 02 telephone-cancellation\\venv\\lib\\site-packages\\IPython\\core\\events.py:89: UserWarning: Glyph 54868 (\\N{HANGUL SYLLABLE HWA}) missing from current font.\n",
      "  func(*args, **kwargs)\n",
      "d:\\contest\\2023 03 02 telephone-cancellation\\venv\\lib\\site-packages\\IPython\\core\\events.py:89: UserWarning: Glyph 54644 (\\N{HANGUL SYLLABLE HAE}) missing from current font.\n",
      "  func(*args, **kwargs)\n",
      "d:\\contest\\2023 03 02 telephone-cancellation\\venv\\lib\\site-packages\\IPython\\core\\events.py:89: UserWarning: Glyph 51648 (\\N{HANGUL SYLLABLE JI}) missing from current font.\n",
      "  func(*args, **kwargs)\n",
      "d:\\contest\\2023 03 02 telephone-cancellation\\venv\\lib\\site-packages\\IPython\\core\\events.py:89: UserWarning: Glyph 50668 (\\N{HANGUL SYLLABLE YEO}) missing from current font.\n",
      "  func(*args, **kwargs)\n",
      "d:\\contest\\2023 03 02 telephone-cancellation\\venv\\lib\\site-packages\\IPython\\core\\events.py:89: UserWarning: Glyph 48512 (\\N{HANGUL SYLLABLE BU}) missing from current font.\n",
      "  func(*args, **kwargs)\n",
      "d:\\contest\\2023 03 02 telephone-cancellation\\venv\\lib\\site-packages\\IPython\\core\\pylabtools.py:151: UserWarning: Glyph 51020 (\\N{HANGUL SYLLABLE EUM}) missing from current font.\n",
      "  fig.canvas.print_figure(bytes_io, **kw)\n",
      "d:\\contest\\2023 03 02 telephone-cancellation\\venv\\lib\\site-packages\\IPython\\core\\pylabtools.py:151: UserWarning: Glyph 49457 (\\N{HANGUL SYLLABLE SEONG}) missing from current font.\n",
      "  fig.canvas.print_figure(bytes_io, **kw)\n",
      "d:\\contest\\2023 03 02 telephone-cancellation\\venv\\lib\\site-packages\\IPython\\core\\pylabtools.py:151: UserWarning: Glyph 49324 (\\N{HANGUL SYLLABLE SA}) missing from current font.\n",
      "  fig.canvas.print_figure(bytes_io, **kw)\n",
      "d:\\contest\\2023 03 02 telephone-cancellation\\venv\\lib\\site-packages\\IPython\\core\\pylabtools.py:151: UserWarning: Glyph 49436 (\\N{HANGUL SYLLABLE SEO}) missing from current font.\n",
      "  fig.canvas.print_figure(bytes_io, **kw)\n",
      "d:\\contest\\2023 03 02 telephone-cancellation\\venv\\lib\\site-packages\\IPython\\core\\pylabtools.py:151: UserWarning: Glyph 54632 (\\N{HANGUL SYLLABLE HAM}) missing from current font.\n",
      "  fig.canvas.print_figure(bytes_io, **kw)\n",
      "d:\\contest\\2023 03 02 telephone-cancellation\\venv\\lib\\site-packages\\IPython\\core\\pylabtools.py:151: UserWarning: Glyph 51060 (\\N{HANGUL SYLLABLE I}) missing from current font.\n",
      "  fig.canvas.print_figure(bytes_io, **kw)\n",
      "d:\\contest\\2023 03 02 telephone-cancellation\\venv\\lib\\site-packages\\IPython\\core\\pylabtools.py:151: UserWarning: Glyph 50857 (\\N{HANGUL SYLLABLE YONG}) missing from current font.\n",
      "  fig.canvas.print_figure(bytes_io, **kw)\n",
      "d:\\contest\\2023 03 02 telephone-cancellation\\venv\\lib\\site-packages\\IPython\\core\\pylabtools.py:151: UserWarning: Glyph 51204 (\\N{HANGUL SYLLABLE JEON}) missing from current font.\n",
      "  fig.canvas.print_figure(bytes_io, **kw)\n",
      "d:\\contest\\2023 03 02 telephone-cancellation\\venv\\lib\\site-packages\\IPython\\core\\pylabtools.py:151: UserWarning: Glyph 54868 (\\N{HANGUL SYLLABLE HWA}) missing from current font.\n",
      "  fig.canvas.print_figure(bytes_io, **kw)\n",
      "d:\\contest\\2023 03 02 telephone-cancellation\\venv\\lib\\site-packages\\IPython\\core\\pylabtools.py:151: UserWarning: Glyph 54644 (\\N{HANGUL SYLLABLE HAE}) missing from current font.\n",
      "  fig.canvas.print_figure(bytes_io, **kw)\n",
      "d:\\contest\\2023 03 02 telephone-cancellation\\venv\\lib\\site-packages\\IPython\\core\\pylabtools.py:151: UserWarning: Glyph 51648 (\\N{HANGUL SYLLABLE JI}) missing from current font.\n",
      "  fig.canvas.print_figure(bytes_io, **kw)\n",
      "d:\\contest\\2023 03 02 telephone-cancellation\\venv\\lib\\site-packages\\IPython\\core\\pylabtools.py:151: UserWarning: Glyph 50668 (\\N{HANGUL SYLLABLE YEO}) missing from current font.\n",
      "  fig.canvas.print_figure(bytes_io, **kw)\n",
      "d:\\contest\\2023 03 02 telephone-cancellation\\venv\\lib\\site-packages\\IPython\\core\\pylabtools.py:151: UserWarning: Glyph 48512 (\\N{HANGUL SYLLABLE BU}) missing from current font.\n",
      "  fig.canvas.print_figure(bytes_io, **kw)\n"
     ]
    },
    {
     "data": {
      "image/png": "[encoded data removed]",
      "text/plain": [
       "<Figure size 640x480 with 1 Axes>"
      ]
     },
     "metadata": {},
     "output_type": "display_data"
    }
   ],
   "source": [
    "sns.histplot(data=data, x='음성사서함이용', hue='전화해지여부', bins=20)"
   ]
  },
  {
   "cell_type": "code",
   "execution_count": 33,
   "metadata": {},
   "outputs": [
    {
     "data": {
      "text/plain": [
       "0       10988\n",
       "1       10852\n",
       "23        825\n",
       "22        669\n",
       "29        610\n",
       "        ...  \n",
       "117         1\n",
       "13          1\n",
       "116         1\n",
       "111         1\n",
       "1112        1\n",
       "Name: 음성사서함이용, Length: 76, dtype: int64"
      ]
     },
     "execution_count": 33,
     "metadata": {},
     "output_type": "execute_result"
    }
   ],
   "source": [
    "data['음성사서함이용'].value_counts()"
   ]
  },
  {
   "cell_type": "code",
   "execution_count": null,
   "metadata": {},
   "outputs": [],
   "source": []
  }
 ],
 "metadata": {
  "kernelspec": {
   "display_name": "Python 3 (ipykernel)",
   "language": "python",
   "name": "python3"
  },
  "language_info": {
   "codemirror_mode": {
    "name": "ipython",
    "version": 3
   },
   "file_extension": ".py",
   "mimetype": "text/x-python",
   "name": "python",
   "nbconvert_exporter": "python",
   "pygments_lexer": "ipython3",
   "version": "3.7.6"
  }
 },
 "nbformat": 4,
 "nbformat_minor": 1
}